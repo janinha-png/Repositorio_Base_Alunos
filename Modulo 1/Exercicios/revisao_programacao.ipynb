{
 "cells": [
  {
   "cell_type": "markdown",
   "metadata": {},
   "source": [
    "# Revisão de Programação em Python\n",
    "## Alunos da Rede Pública Municipal de Santana de Parnaíba inscritos na Fábrica de Programadores!\n",
    "\n",
    "Neste notebook, vamos revisar os conceitos aprendidos:\n",
    "- Variáveis e tipos básicos 😁\n",
    "- Listas 📋\n",
    "- Estruturas condicionais (if, elif, else) ⬅️➡️\n",
    "- Casting 🫠\n",
    "- Funções 📐\n",
    "- Escopo (global, local) 🌍🏠\n",
    "- Composição ➗\n",
    "- Loops (while, for) 🌀\n",
    "- Lógica básica de programação 🧠\n",
    "\n",
    "Responda todos os exercícios utilizando composição!"
   ]
  },
  {
   "cell_type": "markdown",
   "metadata": {},
   "source": [
    "## Exercício 1: Variáveis e Tipos Básicos"
   ]
  },
  {
   "cell_type": "code",
   "execution_count": 18,
   "metadata": {},
   "outputs": [],
   "source": [
    "# 1. Declare variáveis para armazenar:\n",
    "nome=\"joana vieira\"\n",
    "idade= \"16\"\n",
    "altura= \"1,45\"\n",
    "true= \"gosto de programar\""
   ]
  },
  {
   "cell_type": "markdown",
   "metadata": {},
   "source": [
    "## Exercício 2: Operações com Listas"
   ]
  },
  {
   "cell_type": "code",
   "execution_count": null,
   "metadata": {},
   "outputs": [
    {
     "name": "stdout",
     "output_type": "stream",
     "text": [
      "['maça', 'uva', 'morango', 'banana', 'manga', 'acerola']\n",
      "['maça', 'morango', 'banana', 'manga', 'acerola']\n",
      "banana\n"
     ]
    },
    {
     "name": "stdout",
     "output_type": "stream",
     "text": [
      "['maça', 'uva', 'morango', 'banana', 'manga', 'acerola']\n",
      "['maça', 'morango', 'banana', 'manga', 'acerola']\n",
      "banana\n"
     ]
    }
   ],
   "source": [
    "# 2. Declare uma lista chamada 'frutas' com 5 frutas diferentes\n",
    "#    - Adicione uma nova fruta no final da lista\n",
    "#    - Remova a segunda fruta da lista\n",
    "#    - Imprima a lista resultante\n",
    "#    - Imprima apenas a terceira fruta da lista\n",
    "\n",
    "frutas=[\"maça\",\"uva\",\"morango\",\"banana\",\"manga\"]\n",
    "frutas.insert(6,\"acerola\")\n",
    "print(frutas)\n",
    "frutas.pop(1)\n",
    "print(frutas)\n",
    "print(\"banana\")"
   ]
  },
  {
   "cell_type": "markdown",
   "metadata": {},
   "source": [
    "## Exercício 3: Funções, Escopo e Tipos de Dados"
   ]
  },
  {
   "cell_type": "code",
   "execution_count": 31,
   "metadata": {},
   "outputs": [],
   "source": [
    "# 3. Defina uma função chamada calcular_dobro que recebe um número inteiro como parâmetro.\n",
    "#    - Dentro da função, calcule o dobro desse número e atribua o resultado a uma variável local chamada resultado_dobro.\n",
    "#    - A função deve retornar resultado_dobro.\n",
    "#    - Fora da função, invoque a função com o número 7 e atribua o valor retornado a uma variável global chamada meu_dobro.\n",
    "#    - Imprima o valor de meu_dobro.\n",
    "\n",
    "def calcular_dobro():\n",
    "    n=int(input(\"Tabuada de:\"))\n",
    "    x=1\n",
    "    while x <=100:\n",
    "        print(n,\"x\",x,\"=\",x*n)\n",
    "        x=x+1\n"
   ]
  },
  {
   "cell_type": "markdown",
   "metadata": {},
   "source": [
    "## Exercício 4: Estruturas Condicionais (if, else)"
   ]
  },
  {
   "cell_type": "code",
   "execution_count": 50,
   "metadata": {},
   "outputs": [
    {
     "name": "stdout",
     "output_type": "stream",
     "text": [
      "positivo\n",
      "positivo\n"
     ]
    }
   ],
   "source": [
    "# 4. Crie um programa que verifica se um número é positivo, negativo ou zero\n",
    "#    - Peça para o usuário digitar um número\n",
    "#    - Use if, elif e else para verificar o número\n",
    "#    - Imprima o resultado\n",
    "\n",
    "valor=int(input(\"Digite um numero:\"))\n",
    "if valor < 0:\n",
    "    0 < valor\n",
    "    print (\"negativo\")\n",
    "\n",
    "else:\n",
    "    valor > 0\n",
    "    0 > valor\n",
    "    print (\"positivo\")\n",
    "\n",
    "\n",
    "\n",
    "\n",
    "\n"
   ]
  },
  {
   "cell_type": "markdown",
   "metadata": {},
   "source": [
    "## Exercício 5: Loop While"
   ]
  },
  {
   "cell_type": "code",
   "execution_count": null,
   "metadata": {},
   "outputs": [
    {
     "name": "stdout",
     "output_type": "stream",
     "text": [
      "5\n",
      "4\n",
      "3\n",
      "2\n",
      "1\n",
      "Fogo!\n"
     ]
    }
   ],
   "source": [
    "# 5. Crie um contador regressivo de 5 até 1 usando while\n",
    "#    - A cada iteração, imprima o número atual\n",
    "#    - Quando chegar a 1, imprima \"Fogo!\"\n",
    "\n",
    "x=5\n",
    "while x>=1:\n",
    "    print(x)\n",
    "    x-=1\n",
    "print(\"Fogo!\")"
   ]
  },
  {
   "cell_type": "markdown",
   "metadata": {},
   "source": [
    "## Exercício 6: Loop For"
   ]
  },
  {
   "cell_type": "code",
   "execution_count": 59,
   "metadata": {},
   "outputs": [
    {
     "name": "stdout",
     "output_type": "stream",
     "text": [
      "A média das notas é: 6.40\n"
     ]
    }
   ],
   "source": [
    "# 6. Crie um programa que calcula a média de 5 notas usando for\n",
    "#    - Peça para o usuário digitar 5 notas\n",
    "#    - Use um loop for para somar as notas\n",
    "#    - Calcule e imprima a média\n",
    "\n",
    "soma = 0\n",
    "for i in range(1, 6):\n",
    "    nota = float(input(f\"Digite a nota {i}: \"))\n",
    "    soma += nota\n",
    "    media = soma / 5\n",
    "print(f\"A média das notas é: {media:.2f}\")"
   ]
  },
  {
   "cell_type": "code",
   "execution_count": null,
   "metadata": {},
   "outputs": [],
   "source": []
  },
  {
   "cell_type": "markdown",
   "metadata": {},
   "source": [
    "## Exercício 7: Escopo Global e Local"
   ]
  },
  {
   "cell_type": "code",
   "execution_count": null,
   "metadata": {},
   "outputs": [],
   "source": [
    "# 7. Defina uma variável global chamada saldo_inicial com o valor 1000.50 (tipo float).\n",
    "#    - Crie uma função chamada depositar que recebe um valor_deposito (float) como parâmetro.\n",
    "#    - Dentro da função depositar, adicione o valor_deposito ao saldo_inicial. Lembre-se de usar a palavra-chave global para modificar a variável global.\n",
    "#    - Fora da função, chame depositar com o valor 250.75.\n",
    "#    - Após a chamada da função, imprima o valor atualizado de saldo_inicial.\n",
    "\n",
    "# Seu código aqui"
   ]
  },
  {
   "cell_type": "markdown",
   "metadata": {},
   "source": [
    "## Exercício 8: Listas e Loops"
   ]
  },
  {
   "cell_type": "code",
   "execution_count": 113,
   "metadata": {},
   "outputs": [
    {
     "name": "stdout",
     "output_type": "stream",
     "text": [
      "1\n",
      "2\n",
      "3\n",
      "4\n",
      "5\n",
      "6\n",
      "7\n",
      "8\n",
      "9\n",
      "10\n"
     ]
    }
   ],
   "source": [
    "# 8. Crie uma lista de números de 1 a 10\n",
    "#    - Use um loop for para imprimir apenas os números pares\n",
    "#    - Depois, crie uma nova lista com os números ímpares\n",
    "#    - Imprima a lista de ímpares\n",
    "\n",
    "L=[1,2,3,4,5,6,7,8,9,10]\n",
    "for e in L:\n",
    "        print(e)"
   ]
  },
  {
   "cell_type": "markdown",
   "metadata": {},
   "source": [
    "## Exercício 9: Jogo de Adivinhação"
   ]
  },
  {
   "cell_type": "code",
   "execution_count": null,
   "metadata": {},
   "outputs": [],
   "source": [
    "# 9. Crie um jogo de adivinhação onde:\n",
    "#    - O computador escolhe um número aleatório entre 1 e 10\n",
    "#    - O jogador tem 3 tentativas para adivinhar o número\n",
    "#    - A cada tentativa, diga se o palpite é maior ou menor que o número secreto\n",
    "#    - Se acertar, imprima \"Parabéns!\" e encerre o jogo\n",
    "#    - Se errar todas as tentativas, imprima o número correto\n",
    "\n",
    "# Seu código aqui"
   ]
  },
  {
   "cell_type": "markdown",
   "metadata": {},
   "source": [
    "## Exercício 10: Desafio Final"
   ]
  },
  {
   "cell_type": "code",
   "execution_count": null,
   "metadata": {},
   "outputs": [],
   "source": [
    "# 10. Crie um programa que:\n",
    "#    - Pede para o usuário digitar o seu próprio peso em Kgs.\n",
    "#    - Depois, pede ao usuário que digite sua altura em metros.\n",
    "#    - Em terceiro, pede ao usuário que digite seu nome e idade.\n",
    "#    - Adiciona os dados digitados ao final de uma lista (utilizando a função .append()).\n",
    "#    - Calcule o índice de massa corpórea (IMC) do indivíduo de acordo com a fórmula do IMC pesquisada.    \n",
    "#    - Após calcular, registre: Classificação do IMC de acordo com a OMS:\n",
    "#    - < 16         Magreza grave (grau III)\n",
    "#    - 16 a 16,9    Magreza moderada (grau II)\n",
    "#    - 17 a 18,4    Magreza leve (grau I)\n",
    "#    - 18,5 a 24,9  Eutrofia (estado nutricional adequado)\n",
    "#    - 25 a 29,9    Pré-obesidade\n",
    "#    - 30 a 34,9    Obesidade moderada (grau I)\n",
    "#    - 35 a 39,9    Obesidade severa (grau II)\n",
    "#    - >= 40        Obesidade muito severa (grau III)\n",
    "#    - Finalmente, em ordem alfabética (utilizando a função .sort()), exiba todos os itens da lista ao lado de seus dados, seu IMC e sua respectiva classificação.\n",
    "\n",
    "# Seu código aqui"
   ]
  },
  {
   "cell_type": "markdown",
   "metadata": {},
   "source": [
    "## Parabéns por completar os exercícios! 🥳\n",
    "### Continue praticando e explorando os conceitos de programação."
   ]
  }
 ],
 "metadata": {
  "kernelspec": {
   "display_name": "Python 3",
   "language": "python",
   "name": "python3"
  },
  "language_info": {
   "codemirror_mode": {
    "name": "ipython",
    "version": 3
   },
   "file_extension": ".py",
   "mimetype": "text/x-python",
   "name": "python",
   "nbconvert_exporter": "python",
   "pygments_lexer": "ipython3",
   "version": "3.13.2"
  }
 },
 "nbformat": 4,
 "nbformat_minor": 4
}
